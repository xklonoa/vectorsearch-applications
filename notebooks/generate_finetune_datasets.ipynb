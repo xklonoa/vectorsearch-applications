{
 "cells": [
  {
   "attachments": {},
   "cell_type": "markdown",
   "id": "9fd6de0a-8c4a-4a09-8c47-2af452e95cd4",
   "metadata": {},
   "source": [
    "# Query/Context Dataset Generation\n",
    "***\n",
    "\n",
    "This notebook walks students through the process of generating datasets of query/context pairs which can be used for two primary purposes:\n",
    "- Fine-tuning an embedding model\n",
    "- Serve as ground truth for retrieval evaluation"
   ]
  },
  {
   "cell_type": "code",
   "execution_count": 71,
   "id": "1e7a0b9a-0f63-465f-b238-286433923925",
   "metadata": {},
   "outputs": [
    {
     "name": "stdout",
     "output_type": "stream",
     "text": [
      "The autoreload extension is already loaded. To reload it, use:\n",
      "  %reload_ext autoreload\n"
     ]
    }
   ],
   "source": [
    "%load_ext autoreload \n",
    "%autoreload 2\n",
    "\n",
    "import sys\n",
    "sys.path.append('../')\n",
    "\n",
    "from src.evaluation.retrieval_evaluation import QueryContextGenerator\n",
    "from src.evaluation.eval_prompt_templates import qa_triplet_generation_prompt, qa_flavors\n",
    "from src.preprocessor.preprocessing import FileIO\n",
    "from src.llm.llm_interface import LLM\n",
    "from tqdm import tqdm\n",
    "from rich import print\n",
    "import random\n",
    "import pandas as pd\n",
    "import uuid\n",
    "import re\n",
    "import os\n",
    "\n",
    "from dotenv import load_dotenv\n",
    "env = load_dotenv('.env', override=True)\n",
    "\n",
    "from datasets import load_dataset, load_dataset_builder, Dataset, DatasetDict"
   ]
  },
  {
   "cell_type": "code",
   "execution_count": 78,
   "id": "446de940-08c0-469c-865f-704edc091669",
   "metadata": {},
   "outputs": [
    {
     "name": "stderr",
     "output_type": "stream",
     "text": [
      "/opt/anaconda3/envs/vsa/lib/python3.10/site-packages/pandas/core/frame.py:717: DeprecationWarning: Passing a BlockManager to DataFrame is deprecated and will raise in a future version. Use public APIs instead.\n",
      "  warnings.warn(\n"
     ]
    },
    {
     "name": "stdout",
     "output_type": "stream",
     "text": [
      "Shape of data: (11602, 13)\n",
      "Memory Usage: 1.15+ MB\n"
     ]
    }
   ],
   "source": [
    "data_path = '../../version2/data/huberman_minilm-512.parquet'\n",
    "data = FileIO().load_parquet(data_path)"
   ]
  },
  {
   "cell_type": "code",
   "execution_count": 79,
   "id": "54942b6e-dc44-4e3a-a5b1-6b0565eb1cc4",
   "metadata": {},
   "outputs": [],
   "source": [
    "# pri_keys = ['title', 'content', 'summary', 'guest', 'doc_id']\n",
    "# data = [{k:v for k,v in d.items() if k in pri_keys} for d in data]"
   ]
  },
  {
   "cell_type": "code",
   "execution_count": 80,
   "id": "c066d85f-ef91-445f-bef8-5f3459b0b032",
   "metadata": {},
   "outputs": [],
   "source": [
    "llm = LLM()"
   ]
  },
  {
   "cell_type": "code",
   "execution_count": 81,
   "id": "6b8b80be-5f90-45a3-810a-34df4e184a19",
   "metadata": {},
   "outputs": [
    {
     "data": {
      "text/html": [
       "<pre style=\"white-space:pre;overflow-x:auto;line-height:normal;font-family:Menlo,'DejaVu Sans Mono',consolas,'Courier New',monospace\"><span style=\"font-weight: bold\">[</span>\n",
       "    <span style=\"color: #008000; text-decoration-color: #008000\">'be highly semantically related. If I were to measure the cosine similarity of their respective vector </span>\n",
       "<span style=\"color: #008000; text-decoration-color: #008000\">embeddings, the outcome would be close to 1.0.'</span>,\n",
       "    <span style=\"color: #008000; text-decoration-color: #008000\">'not be semantically related at all. If I were to measure the cosine similarity of their respective vector </span>\n",
       "<span style=\"color: #008000; text-decoration-color: #008000\">embeddings, the outcome would be close to 0.'</span>,\n",
       "    <span style=\"color: #008000; text-decoration-color: #008000\">'not contain any keyword overlap between the two texts. A comparison of the two texts would show that they </span>\n",
       "<span style=\"color: #008000; text-decoration-color: #008000\">share no keywords.'</span>,\n",
       "    <span style=\"color: #008000; text-decoration-color: #008000\">'not contain any keyword overlap between the two texts. A comparison of the two texts would show that they </span>\n",
       "<span style=\"color: #008000; text-decoration-color: #008000\">share no keywords.'</span>\n",
       "<span style=\"font-weight: bold\">]</span>\n",
       "</pre>\n"
      ],
      "text/plain": [
       "\u001b[1m[\u001b[0m\n",
       "    \u001b[32m'be highly semantically related. If I were to measure the cosine similarity of their respective vector \u001b[0m\n",
       "\u001b[32membeddings, the outcome would be close to 1.0.'\u001b[0m,\n",
       "    \u001b[32m'not be semantically related at all. If I were to measure the cosine similarity of their respective vector \u001b[0m\n",
       "\u001b[32membeddings, the outcome would be close to 0.'\u001b[0m,\n",
       "    \u001b[32m'not contain any keyword overlap between the two texts. A comparison of the two texts would show that they \u001b[0m\n",
       "\u001b[32mshare no keywords.'\u001b[0m,\n",
       "    \u001b[32m'not contain any keyword overlap between the two texts. A comparison of the two texts would show that they \u001b[0m\n",
       "\u001b[32mshare no keywords.'\u001b[0m\n",
       "\u001b[1m]\u001b[0m\n"
      ]
     },
     "metadata": {},
     "output_type": "display_data"
    }
   ],
   "source": [
    "generator = QueryContextGenerator(llm)\n",
    "print(qa_flavors)"
   ]
  },
  {
   "cell_type": "code",
   "execution_count": 82,
   "id": "f73c942e-efaf-42f7-ae52-49051a357505",
   "metadata": {},
   "outputs": [
    {
     "data": {
      "text/html": [
       "<pre style=\"white-space:pre;overflow-x:auto;line-height:normal;font-family:Menlo,'DejaVu Sans Mono',consolas,'Courier New',monospace\">Using a total_chars length of <span style=\"color: #008080; text-decoration-color: #008080; font-weight: bold\">2189</span>\n",
       "</pre>\n"
      ],
      "text/plain": [
       "Using a total_chars length of \u001b[1;36m2189\u001b[0m\n"
      ]
     },
     "metadata": {},
     "output_type": "display_data"
    },
    {
     "name": "stderr",
     "output_type": "stream",
     "text": [
      "QA Pair Generation:  20%|███████████████████                                                                            | 20/100 [00:31<02:37,  1.97s/it]"
     ]
    },
    {
     "data": {
      "text/html": [
       "<pre style=\"white-space:pre;overflow-x:auto;line-height:normal;font-family:Menlo,'DejaVu Sans Mono',consolas,'Courier New',monospace\"><span style=\"color: #008080; text-decoration-color: #008080; font-weight: bold\">20</span> questions generated\n",
       "</pre>\n"
      ],
      "text/plain": [
       "\u001b[1;36m20\u001b[0m questions generated\n"
      ]
     },
     "metadata": {},
     "output_type": "display_data"
    },
    {
     "name": "stderr",
     "output_type": "stream",
     "text": [
      "QA Pair Generation:  25%|███████████████████████▊                                                                       | 25/100 [00:39<01:51,  1.49s/it]\u001b[32m2024-05-17 10:40:28.083\u001b[0m | \u001b[1mINFO    \u001b[0m | \u001b[36msrc.evaluation.retrieval_evaluation\u001b[0m:\u001b[36mgenerate_retrieval_dataset\u001b[0m:\u001b[36m270\u001b[0m - \u001b[1mChanging QA Flavor: at count 25, using qa_flavor 1\u001b[0m\n",
      "QA Pair Generation:  34%|████████████████████████████████▎                                                              | 34/100 [00:51<01:23,  1.26s/it]"
     ]
    },
    {
     "data": {
      "text/html": [
       "<pre style=\"white-space:pre;overflow-x:auto;line-height:normal;font-family:Menlo,'DejaVu Sans Mono',consolas,'Courier New',monospace\">No questions retrieved for this chunk\n",
       "</pre>\n"
      ],
      "text/plain": [
       "No questions retrieved for this chunk\n"
      ]
     },
     "metadata": {},
     "output_type": "display_data"
    },
    {
     "name": "stderr",
     "output_type": "stream",
     "text": [
      "QA Pair Generation:  39%|█████████████████████████████████████                                                          | 39/100 [00:58<01:23,  1.36s/it]"
     ]
    },
    {
     "data": {
      "text/html": [
       "<pre style=\"white-space:pre;overflow-x:auto;line-height:normal;font-family:Menlo,'DejaVu Sans Mono',consolas,'Courier New',monospace\">No questions retrieved for this chunk\n",
       "</pre>\n"
      ],
      "text/plain": [
       "No questions retrieved for this chunk\n"
      ]
     },
     "metadata": {},
     "output_type": "display_data"
    },
    {
     "name": "stderr",
     "output_type": "stream",
     "text": [
      "QA Pair Generation:  40%|██████████████████████████████████████                                                         | 40/100 [01:01<01:41,  1.69s/it]"
     ]
    },
    {
     "data": {
      "text/html": [
       "<pre style=\"white-space:pre;overflow-x:auto;line-height:normal;font-family:Menlo,'DejaVu Sans Mono',consolas,'Courier New',monospace\"><span style=\"color: #008080; text-decoration-color: #008080; font-weight: bold\">40</span> questions generated\n",
       "</pre>\n"
      ],
      "text/plain": [
       "\u001b[1;36m40\u001b[0m questions generated\n"
      ]
     },
     "metadata": {},
     "output_type": "display_data"
    },
    {
     "name": "stderr",
     "output_type": "stream",
     "text": [
      "QA Pair Generation:  45%|██████████████████████████████████████████▊                                                    | 45/100 [01:08<01:21,  1.48s/it]"
     ]
    },
    {
     "data": {
      "text/html": [
       "<pre style=\"white-space:pre;overflow-x:auto;line-height:normal;font-family:Menlo,'DejaVu Sans Mono',consolas,'Courier New',monospace\">No good questions returned\n",
       "</pre>\n"
      ],
      "text/plain": [
       "No good questions returned\n"
      ]
     },
     "metadata": {},
     "output_type": "display_data"
    },
    {
     "data": {
      "text/html": [
       "<pre style=\"white-space:pre;overflow-x:auto;line-height:normal;font-family:Menlo,'DejaVu Sans Mono',consolas,'Courier New',monospace\">No questions retrieved for this chunk\n",
       "</pre>\n"
      ],
      "text/plain": [
       "No questions retrieved for this chunk\n"
      ]
     },
     "metadata": {},
     "output_type": "display_data"
    },
    {
     "name": "stderr",
     "output_type": "stream",
     "text": [
      "QA Pair Generation:  49%|██████████████████████████████████████████████▌                                                | 49/100 [01:15<01:20,  1.58s/it]"
     ]
    },
    {
     "data": {
      "text/html": [
       "<pre style=\"white-space:pre;overflow-x:auto;line-height:normal;font-family:Menlo,'DejaVu Sans Mono',consolas,'Courier New',monospace\">No questions retrieved for this chunk\n",
       "</pre>\n"
      ],
      "text/plain": [
       "No questions retrieved for this chunk\n"
      ]
     },
     "metadata": {},
     "output_type": "display_data"
    },
    {
     "name": "stderr",
     "output_type": "stream",
     "text": [
      "QA Pair Generation:  50%|███████████████████████████████████████████████▌                                               | 50/100 [01:18<01:44,  2.10s/it]\u001b[32m2024-05-17 10:41:07.936\u001b[0m | \u001b[1mINFO    \u001b[0m | \u001b[36msrc.evaluation.retrieval_evaluation\u001b[0m:\u001b[36mgenerate_retrieval_dataset\u001b[0m:\u001b[36m270\u001b[0m - \u001b[1mChanging QA Flavor: at count 50, using qa_flavor 2\u001b[0m\n",
      "QA Pair Generation:  60%|█████████████████████████████████████████████████████████                                      | 60/100 [01:32<00:53,  1.33s/it]"
     ]
    },
    {
     "data": {
      "text/html": [
       "<pre style=\"white-space:pre;overflow-x:auto;line-height:normal;font-family:Menlo,'DejaVu Sans Mono',consolas,'Courier New',monospace\"><span style=\"color: #008080; text-decoration-color: #008080; font-weight: bold\">60</span> questions generated\n",
       "</pre>\n"
      ],
      "text/plain": [
       "\u001b[1;36m60\u001b[0m questions generated\n"
      ]
     },
     "metadata": {},
     "output_type": "display_data"
    },
    {
     "name": "stderr",
     "output_type": "stream",
     "text": [
      "QA Pair Generation:  75%|███████████████████████████████████████████████████████████████████████▎                       | 75/100 [01:52<00:34,  1.37s/it]\u001b[32m2024-05-17 10:41:41.798\u001b[0m | \u001b[1mINFO    \u001b[0m | \u001b[36msrc.evaluation.retrieval_evaluation\u001b[0m:\u001b[36mgenerate_retrieval_dataset\u001b[0m:\u001b[36m270\u001b[0m - \u001b[1mChanging QA Flavor: at count 75, using qa_flavor 3\u001b[0m\n",
      "QA Pair Generation:  80%|████████████████████████████████████████████████████████████████████████████                   | 80/100 [01:58<00:24,  1.24s/it]"
     ]
    },
    {
     "data": {
      "text/html": [
       "<pre style=\"white-space:pre;overflow-x:auto;line-height:normal;font-family:Menlo,'DejaVu Sans Mono',consolas,'Courier New',monospace\"><span style=\"color: #008080; text-decoration-color: #008080; font-weight: bold\">80</span> questions generated\n",
       "</pre>\n"
      ],
      "text/plain": [
       "\u001b[1;36m80\u001b[0m questions generated\n"
      ]
     },
     "metadata": {},
     "output_type": "display_data"
    },
    {
     "name": "stderr",
     "output_type": "stream",
     "text": [
      "QA Pair Generation: 100%|██████████████████████████████████████████████████████████████████████████████████████████████| 100/100 [02:28<00:00,  1.38s/it]"
     ]
    },
    {
     "data": {
      "text/html": [
       "<pre style=\"white-space:pre;overflow-x:auto;line-height:normal;font-family:Menlo,'DejaVu Sans Mono',consolas,'Courier New',monospace\"><span style=\"color: #008080; text-decoration-color: #008080; font-weight: bold\">100</span> questions generated\n",
       "</pre>\n"
      ],
      "text/plain": [
       "\u001b[1;36m100\u001b[0m questions generated\n"
      ]
     },
     "metadata": {},
     "output_type": "display_data"
    },
    {
     "name": "stderr",
     "output_type": "stream",
     "text": [
      "QA Pair Generation: 100%|██████████████████████████████████████████████████████████████████████████████████████████████| 100/100 [02:28<00:00,  1.48s/it]\n"
     ]
    }
   ],
   "source": [
    "dataset_512 = generator.generate_retrieval_dataset(data, 100)"
   ]
  },
  {
   "cell_type": "code",
   "execution_count": 83,
   "id": "56a46871-3345-4277-9037-d6b7d2f2cf06",
   "metadata": {},
   "outputs": [
    {
     "name": "stderr",
     "output_type": "stream",
     "text": [
      "\u001b[32m2024-05-17 10:42:41.726\u001b[0m | \u001b[1mINFO    \u001b[0m | \u001b[36msrc.preprocessor.preprocessing\u001b[0m:\u001b[36msave_as_json\u001b[0m:\u001b[36m111\u001b[0m - \u001b[1mData saved as json file here: ../data/golden_datasets/golden_512_hard.json\u001b[0m\n"
     ]
    }
   ],
   "source": [
    "FileIO.save_as_json('../data/golden_datasets/golden_512_hard.json', dataset_512)"
   ]
  },
  {
   "cell_type": "code",
   "execution_count": null,
   "id": "4c05ecae-d9cf-4a83-b19d-452267e95288",
   "metadata": {},
   "outputs": [],
   "source": []
  },
  {
   "cell_type": "code",
   "execution_count": null,
   "id": "d07925e0-1efe-44a1-b713-61542dfb029b",
   "metadata": {},
   "outputs": [],
   "source": []
  },
  {
   "cell_type": "code",
   "execution_count": null,
   "id": "a0c7022a-c0cf-489d-a3b3-a3377a321e79",
   "metadata": {},
   "outputs": [],
   "source": []
  },
  {
   "cell_type": "code",
   "execution_count": 10,
   "id": "ccf10c7b-364f-4f9e-a5f9-b8747c3ddb9b",
   "metadata": {},
   "outputs": [],
   "source": [
    "# golden_dataset = generator.generate_qa_embedding_pairs(data, qa_generation_prompt, num_total_questions=100, num_questions_per_chunk=2, threshold=0.80)"
   ]
  },
  {
   "cell_type": "code",
   "execution_count": 11,
   "id": "ec6cae16-0f33-4b57-82dd-d3e17bc3e5b4",
   "metadata": {},
   "outputs": [],
   "source": [
    "io = FileIO()"
   ]
  },
  {
   "cell_type": "code",
   "execution_count": 18,
   "id": "00d3ccc4-9d47-4709-912a-12491cfe5b8f",
   "metadata": {},
   "outputs": [
    {
     "name": "stderr",
     "output_type": "stream",
     "text": [
      "\u001b[32m2024-04-18 17:18:35.931\u001b[0m | \u001b[1mINFO    \u001b[0m | \u001b[36msrc.preprocessor.preprocessing\u001b[0m:\u001b[36msave_as_json\u001b[0m:\u001b[36m107\u001b[0m - \u001b[1mData saved as json file here: ../data/golden_datasets/golden_512.json\u001b[0m\n",
      "Bad pipe message: %s [b')\\x1f\\x93\\xd0:Y\\x97\\xcfz\\xf6\\xe8\\xcb\\x94qX\\x99\\x1f^ \\rm\\nh\\xcf\\x13>*0j\\xdeI6~\\x88V\\xdb_\\x01\\x04\\xf0G\\xe2\\x97QT\\x04\\xd5j\\xfcy\\x81\\x00\\x08\\x13\\x02\\x13\\x03\\x13\\x01\\x00\\xff\\x01']\n",
      "Bad pipe message: %s [b\"\\xa6\\x97\\xe6p\\x17\\xed\\xe0L\\xa6P\\x95h+\\xd1\\x12M\\r\\xff\\x00\\x00|\\xc0,\\xc00\\x00\\xa3\\x00\\x9f\\xcc\\xa9\\xcc\\xa8\\xcc\\xaa\\xc0\\xaf\\xc0\\xad\\xc0\\xa3\\xc0\\x9f\\xc0]\\xc0a\\xc0W\\xc0S\\xc0+\\xc0/\\x00\\xa2\\x00\\x9e\\xc0\\xae\\xc0\\xac\\xc0\\xa2\\xc0\\x9e\\xc0\\\\\\xc0`\\xc0V\\xc0R\\xc0$\\xc0(\\x00k\\x00j\\xc0#\\xc0'\\x00g\\x00@\\xc0\\n\\xc0\\x14\\x009\\x008\\xc0\\t\\xc0\\x13\\x003\\x002\\x00\\x9d\\xc0\\xa1\\xc0\\x9d\\xc0Q\\x00\\x9c\\xc0\\xa0\\xc0\\x9c\\xc0P\\x00=\\x00<\\x005\\x00/\\x00\\x9a\\x00\\x99\\xc0\\x07\\xc0\\x11\\x00\\x96\\x00\\x05\\x00\\xff\\x01\\x00\\x00j\\x00\\x00\\x00\\x0e\\x00\\x0c\\x00\\x00\\t127.0.0.1\\x00\\x0b\\x00\\x04\\x03\\x00\\x01\\x02\\x00\\n\\x00\\x0c\\x00\\n\\x00\\x1d\\x00\"]\n",
      "Bad pipe message: %s [b'\\x1e\\x00\\x19\\x00\\x18\\x00#\\x00\\x00\\x00\\x16\\x00\\x00\\x00\\x17\\x00\\x00\\x00\\r\\x000\\x00']\n",
      "Bad pipe message: %s [b'\\x03\\x05\\x03\\x06\\x03\\x08\\x07\\x08\\x08\\x08\\t\\x08\\n\\x08\\x0b\\x08\\x04\\x08\\x05\\x08\\x06\\x04\\x01\\x05\\x01\\x06\\x01\\x03\\x03\\x02\\x03\\x03\\x01\\x02\\x01\\x03\\x02\\x02\\x02\\x04\\x02\\x05\\x02\\x06\\x02']\n",
      "Bad pipe message: %s [b'\\x9e=\\xaa\\x01s\\xcb|\\x95\\xc3\\xe4\\xd5\\xd8\\x01E>\\x8c\\xc6\\xc3\\x00\\x00\\xa2\\xc0\\x14\\xc0\\n\\x009\\x008\\x007\\x006\\x00\\x88\\x00\\x87\\x00\\x86\\x00\\x85\\xc0\\x19\\x00:\\x00\\x89\\xc0\\x0f\\xc0\\x05\\x005\\x00\\x84\\xc0\\x13\\xc0\\t\\x003\\x002\\x001\\x000\\x00\\x9a\\x00\\x99\\x00\\x98\\x00\\x97\\x00E\\x00D\\x00', b'B\\xc0\\x18\\x004\\x00\\x9b\\x00F\\xc0\\x0e\\xc0\\x04\\x00/\\x00\\x96\\x00A\\x00\\x07\\xc0\\x11\\xc0\\x07\\xc0\\x16\\x00\\x18\\xc0\\x0c\\xc0\\x02\\x00\\x05\\x00\\x04\\xc0\\x12\\xc0\\x08\\x00\\x16\\x00\\x13\\x00\\x10\\x00\\r\\xc0\\x17\\x00\\x1b\\xc0\\r\\xc0\\x03\\x00\\n\\x00\\x15\\x00\\x12\\x00\\x0f\\x00']\n",
      "Bad pipe message: %s [b'\\x1a\\x00\\t\\x00\\x14\\x00\\x11\\x00\\x19\\x00\\x08']\n",
      "Bad pipe message: %s [b'9\\xc3\\x11b\\xdcoG\\xc9\\x05\\xde\\xceb\\xe6G<l\\xf1%\\x00\\x00\\xa2\\xc0\\x14\\xc0\\n\\x009\\x008\\x007\\x006\\x00\\x88\\x00\\x87\\x00\\x86\\x00\\x85\\xc0\\x19\\x00:\\x00\\x89\\xc0\\x0f\\xc0\\x05\\x005\\x00\\x84\\xc0\\x13\\xc0\\t\\x003\\x002\\x001\\x000\\x00\\x9a\\x00\\x99\\x00\\x98\\x00\\x97\\x00E\\x00D\\x00C\\x00B\\xc0\\x18\\x004\\x00\\x9b\\x00', b'\\x0e\\xc0\\x04\\x00/\\x00\\x96\\x00A\\x00\\x07\\xc0\\x11\\xc0\\x07\\xc0\\x16\\x00\\x18\\xc0\\x0c\\xc0\\x02\\x00\\x05\\x00\\x04\\xc0\\x12\\xc0\\x08\\x00\\x16\\x00\\x13\\x00\\x10\\x00\\r\\xc0\\x17\\x00\\x1b\\xc0\\r\\xc0\\x03\\x00\\n\\x00\\x15\\x00\\x12\\x00\\x0f\\x00\\x0c\\x00\\x1a\\x00\\t\\x00\\x14\\x00\\x11\\x00\\x19\\x00\\x08']\n",
      "Bad pipe message: %s [b'\\xb0\\xe8\\xcf\\x89\\xa1\\x96\\x1bC\\xc1\\x17\\xdb%\\x18\\xd9O\\xbf\\xa0>\\x00\\x00\\xa2\\xc0\\x14\\xc0\\n\\x009\\x008\\x007\\x006\\x00\\x88\\x00\\x87\\x00\\x86\\x00\\x85\\xc0\\x19\\x00:\\x00\\x89\\xc0\\x0f\\xc0\\x05\\x005\\x00\\x84\\xc0\\x13\\xc0\\t\\x003\\x002\\x001\\x000\\x00\\x9a\\x00\\x99\\x00\\x98\\x00\\x97\\x00E\\x00D\\x00C\\x00B\\xc0\\x18\\x004\\x00\\x9b\\x00F\\xc0\\x0e\\xc0\\x04\\x00/\\x00\\x96\\x00A\\x00\\x07\\xc0\\x11\\xc0\\x07\\xc0\\x16\\x00\\x18\\xc0\\x0c\\xc0\\x02\\x00\\x05\\x00\\x04\\xc0\\x12\\xc0\\x08\\x00\\x16\\x00\\x13\\x00\\x10\\x00\\r\\xc0\\x17\\x00\\x1b\\xc0\\r\\xc0\\x03\\x00\\n\\x00\\x15\\x00\\x12\\x00\\x0f\\x00\\x0c\\x00\\x1a\\x00\\t\\x00\\x14\\x00\\x11\\x00\\x19\\x00\\x08\\x00', b'\\x17\\x00\\x03\\xc0\\x10']\n",
      "Bad pipe message: %s [b\"#+\\x1f\\x94o\\xb5\\xec\\xa8\\xd51\\xd2.Q\\xd8EA\\xe5\\xfa\\x00\\x00\\x86\\xc00\\xc0,\\xc0(\\xc0$\\xc0\\x14\\xc0\\n\\x00\\xa5\\x00\\xa3\\x00\\xa1\\x00\\x9f\\x00k\\x00j\\x00i\\x00h\\x009\\x008\\x007\\x006\\xc02\\xc0.\\xc0*\\xc0&\\xc0\\x0f\\xc0\\x05\\x00\\x9d\\x00=\\x005\\xc0/\\xc0+\\xc0'\\xc0#\\xc0\\x13\\xc0\\t\\x00\\xa4\\x00\\xa2\\x00\\xa0\\x00\\x9e\\x00g\\x00@\\x00?\\x00>\\x003\\x002\\x001\\x000\\xc01\\xc0-\\xc0)\\xc0%\\xc0\\x0e\\xc0\\x04\\x00\\x9c\\x00<\\x00/\\x00\\x9a\\x00\\x99\\x00\\x98\\x00\\x97\\x00\\x96\\x00\\x07\\xc0\\x11\\xc0\\x07\\xc0\\x0c\\xc0\\x02\\x00\\x05\\x00\\x04\\x00\\xff\\x02\\x01\"]\n",
      "Bad pipe message: %s [b'\\x9c\\x8e\\xc8\\x1f\\x8f\\xe1mt\\xa8\\xbe&\\xca\\x81\\x97G\\xa0\\xd98\\x00\\x00\\xf4\\xc00\\xc0,\\xc0(\\xc0$\\xc0\\x14\\xc0\\n\\x00\\xa5\\x00\\xa3\\x00\\xa1\\x00\\x9f\\x00k\\x00j']\n"
     ]
    }
   ],
   "source": [
    "io.save_as_json('../data/golden_datasets/golden_512.json', golden_dataset, indent=4)"
   ]
  },
  {
   "cell_type": "code",
   "execution_count": 54,
   "id": "3fa757d4-73dd-45c4-9c71-9a02a4706613",
   "metadata": {},
   "outputs": [],
   "source": [
    "df = pd.DataFrame.from_dict(q, orient='index', columns=['queries']).reset_index(drop=False, names=['query_ids'])"
   ]
  },
  {
   "cell_type": "code",
   "execution_count": 63,
   "id": "5f8e3613-155e-4215-85cd-81374ae4b585",
   "metadata": {},
   "outputs": [],
   "source": [
    "df = pd.concat((df, pd.DataFrame(relevant_docs, columns=['contexts'])), axis=1)"
   ]
  },
  {
   "cell_type": "code",
   "execution_count": 64,
   "id": "f0fe6879-3ac0-4c4c-9f49-e533d6679e1a",
   "metadata": {},
   "outputs": [],
   "source": [
    "df = pd.concat((df, pd.DataFrame(doc_ids, columns=['doc_ids'])), axis=1)"
   ]
  },
  {
   "cell_type": "code",
   "execution_count": 67,
   "id": "3d8a2b3b-89c3-4c33-aeb8-d19196448b56",
   "metadata": {},
   "outputs": [],
   "source": [
    "test = Dataset.from_pandas(df)"
   ]
  },
  {
   "cell_type": "code",
   "execution_count": 99,
   "id": "ad026622-a29b-4c05-beec-32605a8a412a",
   "metadata": {},
   "outputs": [],
   "source": [
    "qs = ['How long did protein synthesis peak after the infusion of essential amino acids in the study mentioned in the transcript?',\n",
    " \"What study out of Wolf's lab suggested the duration for which protein synthesis peaked after the infusion of essential amino acids?\", 'How long did protein synthesis peak after the infusion of essential amino acids in the study mentioned in the transcript?',\n",
    " \"What study out of Wolf's lab suggested the duration for which protein synthesis peaked after the infusion of essential amino acids?\"]"
   ]
  },
  {
   "cell_type": "code",
   "execution_count": 89,
   "id": "c07d40b3-933a-4b69-87cb-1762f467b962",
   "metadata": {},
   "outputs": [],
   "source": [
    "qs = test['queries']"
   ]
  },
  {
   "cell_type": "code",
   "execution_count": 60,
   "id": "a21e3f71-d815-4ceb-8b4f-69f42a35d1e7",
   "metadata": {},
   "outputs": [
    {
     "data": {
      "text/plain": [
       "50"
      ]
     },
     "execution_count": 60,
     "metadata": {},
     "output_type": "execute_result"
    }
   ],
   "source": [
    "relevant_docs = [testrun['corpus'][di] for di in list(testrun['relevant_docs'].values())]\n",
    "relevant_docs\n",
    "doc_ids = list(testrun['relevant_docs'].values())\n",
    "len(doc_ids)"
   ]
  },
  {
   "cell_type": "markdown",
   "id": "97c56caf-f0d4-48dc-883f-00955af5ec6f",
   "metadata": {},
   "source": [
    "### Load raw data\n",
    "Load raw data from parquet file.  Raw data should be in the same format as the dataset (corpus) created in [Notebook 1](https://github.com/americanthinker/vectorsearch-applications/blob/main/1-Data_Preprocessing_Week1_COLAB.ipynb). "
   ]
  },
  {
   "cell_type": "code",
   "execution_count": 4,
   "id": "bc3833d7-9f28-439d-893c-f76731a599b3",
   "metadata": {},
   "outputs": [
    {
     "name": "stdout",
     "output_type": "stream",
     "text": [
      "Shape of data: (26448, 12)\n",
      "Memory Usage: 2.42+ MB\n"
     ]
    },
    {
     "data": {
      "text/plain": [
       "26448"
      ]
     },
     "execution_count": 4,
     "metadata": {},
     "output_type": "execute_result"
    }
   ],
   "source": [
    "data_path = './data/impact_theory_minilm_256.parquet'\n",
    "data = FileIO().load_parquet(data_path)\n",
    "len(data)"
   ]
  },
  {
   "cell_type": "markdown",
   "id": "87c8787b-3c0c-4999-942f-9f8362eb945b",
   "metadata": {},
   "source": [
    "### Data Length Analysis\n",
    "Conduct an analysis of the length of the content chunks.  Can use either raw words or tokens to assess length.  The main point here is to get a sense of the mean length of content chunks in the data and to set the `total_chars` param in the `clean_validate_data` method with an appropriate value."
   ]
  },
  {
   "cell_type": "code",
   "execution_count": 5,
   "id": "656fdd2d-9057-4f6c-a767-a8070cec3cda",
   "metadata": {},
   "outputs": [
    {
     "data": {
      "text/html": [
       "<div>\n",
       "<style scoped>\n",
       "    .dataframe tbody tr th:only-of-type {\n",
       "        vertical-align: middle;\n",
       "    }\n",
       "\n",
       "    .dataframe tbody tr th {\n",
       "        vertical-align: top;\n",
       "    }\n",
       "\n",
       "    .dataframe thead th {\n",
       "        text-align: right;\n",
       "    }\n",
       "</style>\n",
       "<table border=\"1\" class=\"dataframe\">\n",
       "  <thead>\n",
       "    <tr style=\"text-align: right;\">\n",
       "      <th></th>\n",
       "      <th>0</th>\n",
       "    </tr>\n",
       "  </thead>\n",
       "  <tbody>\n",
       "    <tr>\n",
       "      <th>count</th>\n",
       "      <td>26448.000000</td>\n",
       "    </tr>\n",
       "    <tr>\n",
       "      <th>mean</th>\n",
       "      <td>991.729053</td>\n",
       "    </tr>\n",
       "    <tr>\n",
       "      <th>std</th>\n",
       "      <td>126.344870</td>\n",
       "    </tr>\n",
       "    <tr>\n",
       "      <th>min</th>\n",
       "      <td>4.000000</td>\n",
       "    </tr>\n",
       "    <tr>\n",
       "      <th>25%</th>\n",
       "      <td>944.000000</td>\n",
       "    </tr>\n",
       "    <tr>\n",
       "      <th>50%</th>\n",
       "      <td>1005.000000</td>\n",
       "    </tr>\n",
       "    <tr>\n",
       "      <th>75%</th>\n",
       "      <td>1060.000000</td>\n",
       "    </tr>\n",
       "    <tr>\n",
       "      <th>max</th>\n",
       "      <td>1974.000000</td>\n",
       "    </tr>\n",
       "  </tbody>\n",
       "</table>\n",
       "</div>"
      ],
      "text/plain": [
       "                  0\n",
       "count  26448.000000\n",
       "mean     991.729053\n",
       "std      126.344870\n",
       "min        4.000000\n",
       "25%      944.000000\n",
       "50%     1005.000000\n",
       "75%     1060.000000\n",
       "max     1974.000000"
      ]
     },
     "execution_count": 5,
     "metadata": {},
     "output_type": "execute_result"
    }
   ],
   "source": [
    "#in this example the mean content length is @ 1,000\n",
    "lengths = [len(d['content']) for d in data]\n",
    "df = pd.DataFrame(lengths)\n",
    "df.describe() "
   ]
  },
  {
   "cell_type": "markdown",
   "id": "202dbfca-0a73-4756-b7e7-58f5ef6f62e0",
   "metadata": {},
   "source": [
    "### Split Data\n",
    "\n",
    "The `train_val_split` function will clean and validate the raw data as a first step and then split into user defined train/val splits.  \n",
    "- Cleaning simply strips the keys from the data that are not needed for the query/content generation process\n",
    "- Validation consists of ensuring that only content chunks of length > `total_chars` are passed to the LLM (this step prevents the LLM from asking questions from sparse context)\n",
    "\n",
    "Users define the number of training samples and validation samples to generate.  Number of questions per content chunk can also be set to more than 1, however a note of caution:\n",
    "- Setting `num_questions_per_chunk` > 1 saves time (and money) by asking more than one question per content chunk, however, the dataset will be less diverse.  There is also the potential for the model to generate lower quality questions if the content chunk isn't large enough or meaningful enough to generate more than one question from the content.\n",
    "- Retrieval evaluation results from fine-tuning an embedding model with 200-300 training samples showed an uptick of 5-10% points.  Upper bound on retrieval improvement as a funtion of training sample size is yet to be determined (have fun pushing the boundaries! 👊)\n",
    "- A validation data set is not required for seeing improvement from fine tuning.  The addition of a validation dataset, however, allows a user to test the results of fine tuning on an unseen dataset. "
   ]
  },
  {
   "cell_type": "code",
   "execution_count": 6,
   "id": "e4380c60-c0e9-4f35-b576-59adb173bec3",
   "metadata": {},
   "outputs": [
    {
     "name": "stdout",
     "output_type": "stream",
     "text": [
      "Length Training Data: 10\n",
      "Length Validation Data: 5\n"
     ]
    }
   ],
   "source": [
    "#split data into train/val sets\n",
    "#in this example we are creating a training set of n=10, val set of n=5, and asking the LLM to only ask 1 question per chunk. \n",
    "train, val = generator.train_val_split(data, 10, 5, 1, total_chars=950)"
   ]
  },
  {
   "cell_type": "markdown",
   "id": "ac2ac9e4-3f6f-4903-88f7-7c397ddf66c6",
   "metadata": {},
   "source": [
    "### Generate QA pairs\n",
    "\n",
    "To generate query/context pairs we need to pass in our cleaned data splits, a question asking generation prompt, and the number of questions per chunk (needs to be same value passed into the `train_val_split` function.\n",
    "The `qa_generation_prompt` is already preconfigured and supplies the LLM with additional context about the Impact Theory show to ensure high quality questions are asked given the additional context.   \n",
    "Print out the prompt to see what is being asked of the model:"
   ]
  },
  {
   "cell_type": "code",
   "execution_count": 7,
   "id": "548ee55b-daa5-4ae3-ae8d-c9d67ac8c859",
   "metadata": {},
   "outputs": [
    {
     "data": {
      "text/html": [
       "<pre style=\"white-space:pre;overflow-x:auto;line-height:normal;font-family:Menlo,'DejaVu Sans Mono',consolas,'Courier New',monospace\">\n",
       "Impact Theory episode summary and episode guest are below:\n",
       "\n",
       "---------------------\n",
       "Summary: <span style=\"font-weight: bold\">{</span>summary<span style=\"font-weight: bold\">}</span>\n",
       "---------------------\n",
       "Guest: <span style=\"font-weight: bold\">{</span>guest<span style=\"font-weight: bold\">}</span>\n",
       "---------------------\n",
       "Given the Summary and Guest of the episode as context use the following randomly selected transcript section \\  \n",
       "of the episode and not prior knowledge, generate questions that can be answered by the transcript section: \n",
       "\n",
       "---------------------\n",
       "Transcript: <span style=\"font-weight: bold\">{</span>transcript<span style=\"font-weight: bold\">}</span>\n",
       "---------------------\n",
       "\n",
       "Your task is to create <span style=\"font-weight: bold\">{</span>num_questions_per_chunk<span style=\"font-weight: bold\">}</span> questions that can only be answered given the previous context and\n",
       "transcript details. The question should randomly start with How, Why, or What.   \n",
       "\n",
       "</pre>\n"
      ],
      "text/plain": [
       "\n",
       "Impact Theory episode summary and episode guest are below:\n",
       "\n",
       "---------------------\n",
       "Summary: \u001b[1m{\u001b[0msummary\u001b[1m}\u001b[0m\n",
       "---------------------\n",
       "Guest: \u001b[1m{\u001b[0mguest\u001b[1m}\u001b[0m\n",
       "---------------------\n",
       "Given the Summary and Guest of the episode as context use the following randomly selected transcript section \\  \n",
       "of the episode and not prior knowledge, generate questions that can be answered by the transcript section: \n",
       "\n",
       "---------------------\n",
       "Transcript: \u001b[1m{\u001b[0mtranscript\u001b[1m}\u001b[0m\n",
       "---------------------\n",
       "\n",
       "Your task is to create \u001b[1m{\u001b[0mnum_questions_per_chunk\u001b[1m}\u001b[0m questions that can only be answered given the previous context and\n",
       "transcript details. The question should randomly start with How, Why, or What.   \n",
       "\n"
      ]
     },
     "metadata": {},
     "output_type": "display_data"
    }
   ],
   "source": [
    "print(qa_generation_prompt)"
   ]
  },
  {
   "cell_type": "markdown",
   "id": "8eb27ebe-15ac-4807-a579-6474dce6d548",
   "metadata": {},
   "source": [
    "The output from this function is a llama_index class `EmbeddingQAFinetuneDataset`, which is a simple wrapper for a series of three dictionaries (`corpus`, `queries`, and `relevant_docs`).  The llama_index class is not absolutely necessary, but it is helpful in making transitions smoother when using the llama_index `SentenceTransformersFinetuneEngine` class for fine-tuning.  It takes roughly 80 seconds to generate 100 query/context pairs so a sample size of 300 takes about 4 minutes (much faster than if you were to do this manually!)."
   ]
  },
  {
   "cell_type": "code",
   "execution_count": 12,
   "id": "72a3fd61-44ea-4642-ba5c-b7acbf800e88",
   "metadata": {},
   "outputs": [
    {
     "name": "stderr",
     "output_type": "stream",
     "text": [
      "100%|████████████████████████████████████████████████████████████████████| 10/10 [00:13<00:00,  1.30s/it]\n"
     ]
    }
   ],
   "source": [
    "training_set = generator.generate_qa_embedding_pairs(train, qa_generation_prompt, 2)\n",
    "# val_set = generator.generate_qa_embedding_pairs(val, qa_generation_prompt, 1)"
   ]
  },
  {
   "cell_type": "code",
   "execution_count": 13,
   "id": "1e6130c7-d4b6-4d75-b63e-acc85ffed3f4",
   "metadata": {},
   "outputs": [
    {
     "data": {
      "text/plain": [
       "(20, 5)"
      ]
     },
     "execution_count": 13,
     "metadata": {},
     "output_type": "execute_result"
    }
   ],
   "source": [
    "#EmbeddingQAFinetuneDataset has no len, so check length of queries instead\n",
    "len(training_set.queries), len(val_set.queries)"
   ]
  },
  {
   "cell_type": "markdown",
   "id": "c7be6432-def2-4dcf-8801-1c56d5f09a86",
   "metadata": {},
   "source": [
    "### Dataset Analysis\n",
    "\n",
    "Always a good idea to check the quality of the pairs generated.  Most pairs will be high quality but some will not be, this is a chance for human intervention to adjust the questions manually to ensure the quality remains high. "
   ]
  },
  {
   "cell_type": "code",
   "execution_count": 14,
   "id": "cda268d4-93b2-4ed4-9700-6819cb7a9af4",
   "metadata": {},
   "outputs": [],
   "source": [
    "def show_qa_pairs(data: EmbeddingQAFinetuneDataset, print_results: bool=True):\n",
    "    pairs = []\n",
    "    for k, v in data.queries.items():\n",
    "        doc_id = data.relevant_docs[k][0]\n",
    "        context = data.corpus[doc_id]\n",
    "        pairs.append((v, context))\n",
    "    if print_results:\n",
    "        for tup in pairs:\n",
    "            print(f'Question: {tup[0]}\\nContext: {tup[1]}\\n\\n')\n",
    "    return pairs    "
   ]
  },
  {
   "cell_type": "code",
   "execution_count": 17,
   "id": "6141be90-7c11-40f7-b635-c82f80ea394b",
   "metadata": {
    "collapsed": true,
    "jupyter": {
     "outputs_hidden": true
    }
   },
   "outputs": [
    {
     "data": {
      "text/html": [
       "<pre style=\"white-space:pre;overflow-x:auto;line-height:normal;font-family:Menlo,'DejaVu Sans Mono',consolas,'Courier New',monospace\">Question: How does Peter Attia approach cancer treatment for his patients?\n",
       "Context: Is it one that responds to immunotherapy? Is there like a protocol that you would walk down? No, it would \n",
       "be entirely dependent on what the cancer was. So that gets to kind of step two of my thinking on cancer, which is \n",
       "the unequivocal, unambiguous understanding that your odds for treating cancer go down the more cancer cells you \n",
       "have in your body. So detecting it sooner. In the book, you talk about you, for your patients, you lower the age of\n",
       "colonoscopy. We do everything much more aggressively. So we're doing colonoscopy much earlier, much more \n",
       "frequently. How often would you do a colonoscopy? Oh, it depends on the individual. I mean, in me, I do it every \n",
       "three years. Really? Yeah, and then I do stool-based testing in between. What do you check for in the stool? You're\n",
       "looking for fecal DNA. So you're looking for DNA of the colon cancer, yeah. Interesting. It has its own DNA? What \n",
       "are we looking for? Yeah, you're looking for the DNA that's shedding from a tumor.\n",
       "\n",
       "\n",
       "</pre>\n"
      ],
      "text/plain": [
       "Question: How does Peter Attia approach cancer treatment for his patients?\n",
       "Context: Is it one that responds to immunotherapy? Is there like a protocol that you would walk down? No, it would \n",
       "be entirely dependent on what the cancer was. So that gets to kind of step two of my thinking on cancer, which is \n",
       "the unequivocal, unambiguous understanding that your odds for treating cancer go down the more cancer cells you \n",
       "have in your body. So detecting it sooner. In the book, you talk about you, for your patients, you lower the age of\n",
       "colonoscopy. We do everything much more aggressively. So we're doing colonoscopy much earlier, much more \n",
       "frequently. How often would you do a colonoscopy? Oh, it depends on the individual. I mean, in me, I do it every \n",
       "three years. Really? Yeah, and then I do stool-based testing in between. What do you check for in the stool? You're\n",
       "looking for fecal DNA. So you're looking for DNA of the colon cancer, yeah. Interesting. It has its own DNA? What \n",
       "are we looking for? Yeah, you're looking for the DNA that's shedding from a tumor.\n",
       "\n",
       "\n"
      ]
     },
     "metadata": {},
     "output_type": "display_data"
    },
    {
     "data": {
      "text/html": [
       "<pre style=\"white-space:pre;overflow-x:auto;line-height:normal;font-family:Menlo,'DejaVu Sans Mono',consolas,'Courier New',monospace\">Question: What does Peter Attia check for in stool-based testing for colon cancer?\n",
       "Context: Is it one that responds to immunotherapy? Is there like a protocol that you would walk down? No, it would \n",
       "be entirely dependent on what the cancer was. So that gets to kind of step two of my thinking on cancer, which is \n",
       "the unequivocal, unambiguous understanding that your odds for treating cancer go down the more cancer cells you \n",
       "have in your body. So detecting it sooner. In the book, you talk about you, for your patients, you lower the age of\n",
       "colonoscopy. We do everything much more aggressively. So we're doing colonoscopy much earlier, much more \n",
       "frequently. How often would you do a colonoscopy? Oh, it depends on the individual. I mean, in me, I do it every \n",
       "three years. Really? Yeah, and then I do stool-based testing in between. What do you check for in the stool? You're\n",
       "looking for fecal DNA. So you're looking for DNA of the colon cancer, yeah. Interesting. It has its own DNA? What \n",
       "are we looking for? Yeah, you're looking for the DNA that's shedding from a tumor.\n",
       "\n",
       "\n",
       "</pre>\n"
      ],
      "text/plain": [
       "Question: What does Peter Attia check for in stool-based testing for colon cancer?\n",
       "Context: Is it one that responds to immunotherapy? Is there like a protocol that you would walk down? No, it would \n",
       "be entirely dependent on what the cancer was. So that gets to kind of step two of my thinking on cancer, which is \n",
       "the unequivocal, unambiguous understanding that your odds for treating cancer go down the more cancer cells you \n",
       "have in your body. So detecting it sooner. In the book, you talk about you, for your patients, you lower the age of\n",
       "colonoscopy. We do everything much more aggressively. So we're doing colonoscopy much earlier, much more \n",
       "frequently. How often would you do a colonoscopy? Oh, it depends on the individual. I mean, in me, I do it every \n",
       "three years. Really? Yeah, and then I do stool-based testing in between. What do you check for in the stool? You're\n",
       "looking for fecal DNA. So you're looking for DNA of the colon cancer, yeah. Interesting. It has its own DNA? What \n",
       "are we looking for? Yeah, you're looking for the DNA that's shedding from a tumor.\n",
       "\n",
       "\n"
      ]
     },
     "metadata": {},
     "output_type": "display_data"
    },
    {
     "data": {
      "text/html": [
       "<pre style=\"white-space:pre;overflow-x:auto;line-height:normal;font-family:Menlo,'DejaVu Sans Mono',consolas,'Courier New',monospace\">Question: How did Jim Kwik's struggles with learning challenges and fear of public speaking ultimately benefit him \n",
       "in his career?\n",
       "Context: Like that's like the master energy control center. So for me, I would always lean into my practices \n",
       "because it forced me to double down. I think there's a gift. I don't know if it's true enough, but it's been my \n",
       "experience where when people go through struggles that there's a gift in this, like whether there's a gift of \n",
       "what's going on right now, true or false, I choose to believe it because then I'll operate from that, from that \n",
       "point of view and that perspective, meaning what's the gift in me having learning challenges and fearful of public \n",
       "speaking while I got really damn good at learning and public speaking because that's all I do now for, for, for a \n",
       "living, right? What was the advantage that came out of this sleep deprivation experiment for <span style=\"color: #008080; text-decoration-color: #008080; font-weight: bold\">10</span> years now without \n",
       "that much better is I could tell you two things immediately. It forced me to double down on everything I teach \n",
       "because I'm just, I'm just documenting and telling people what I do, right? Otherwise I won't be able to perform at\n",
       "the level that I do. And then number two, it's forced me also to be very selective in the things I say yes to.\n",
       "\n",
       "\n",
       "</pre>\n"
      ],
      "text/plain": [
       "Question: How did Jim Kwik's struggles with learning challenges and fear of public speaking ultimately benefit him \n",
       "in his career?\n",
       "Context: Like that's like the master energy control center. So for me, I would always lean into my practices \n",
       "because it forced me to double down. I think there's a gift. I don't know if it's true enough, but it's been my \n",
       "experience where when people go through struggles that there's a gift in this, like whether there's a gift of \n",
       "what's going on right now, true or false, I choose to believe it because then I'll operate from that, from that \n",
       "point of view and that perspective, meaning what's the gift in me having learning challenges and fearful of public \n",
       "speaking while I got really damn good at learning and public speaking because that's all I do now for, for, for a \n",
       "living, right? What was the advantage that came out of this sleep deprivation experiment for \u001b[1;36m10\u001b[0m years now without \n",
       "that much better is I could tell you two things immediately. It forced me to double down on everything I teach \n",
       "because I'm just, I'm just documenting and telling people what I do, right? Otherwise I won't be able to perform at\n",
       "the level that I do. And then number two, it's forced me also to be very selective in the things I say yes to.\n",
       "\n",
       "\n"
      ]
     },
     "metadata": {},
     "output_type": "display_data"
    },
    {
     "data": {
      "text/html": [
       "<pre style=\"white-space:pre;overflow-x:auto;line-height:normal;font-family:Menlo,'DejaVu Sans Mono',consolas,'Courier New',monospace\">Question: What were the two immediate advantages that Jim Kwik gained from his sleep deprivation experiment?\n",
       "Context: Like that's like the master energy control center. So for me, I would always lean into my practices \n",
       "because it forced me to double down. I think there's a gift. I don't know if it's true enough, but it's been my \n",
       "experience where when people go through struggles that there's a gift in this, like whether there's a gift of \n",
       "what's going on right now, true or false, I choose to believe it because then I'll operate from that, from that \n",
       "point of view and that perspective, meaning what's the gift in me having learning challenges and fearful of public \n",
       "speaking while I got really damn good at learning and public speaking because that's all I do now for, for, for a \n",
       "living, right? What was the advantage that came out of this sleep deprivation experiment for <span style=\"color: #008080; text-decoration-color: #008080; font-weight: bold\">10</span> years now without \n",
       "that much better is I could tell you two things immediately. It forced me to double down on everything I teach \n",
       "because I'm just, I'm just documenting and telling people what I do, right? Otherwise I won't be able to perform at\n",
       "the level that I do. And then number two, it's forced me also to be very selective in the things I say yes to.\n",
       "\n",
       "\n",
       "</pre>\n"
      ],
      "text/plain": [
       "Question: What were the two immediate advantages that Jim Kwik gained from his sleep deprivation experiment?\n",
       "Context: Like that's like the master energy control center. So for me, I would always lean into my practices \n",
       "because it forced me to double down. I think there's a gift. I don't know if it's true enough, but it's been my \n",
       "experience where when people go through struggles that there's a gift in this, like whether there's a gift of \n",
       "what's going on right now, true or false, I choose to believe it because then I'll operate from that, from that \n",
       "point of view and that perspective, meaning what's the gift in me having learning challenges and fearful of public \n",
       "speaking while I got really damn good at learning and public speaking because that's all I do now for, for, for a \n",
       "living, right? What was the advantage that came out of this sleep deprivation experiment for \u001b[1;36m10\u001b[0m years now without \n",
       "that much better is I could tell you two things immediately. It forced me to double down on everything I teach \n",
       "because I'm just, I'm just documenting and telling people what I do, right? Otherwise I won't be able to perform at\n",
       "the level that I do. And then number two, it's forced me also to be very selective in the things I say yes to.\n",
       "\n",
       "\n"
      ]
     },
     "metadata": {},
     "output_type": "display_data"
    },
    {
     "data": {
      "text/html": [
       "<pre style=\"white-space:pre;overflow-x:auto;line-height:normal;font-family:Menlo,'DejaVu Sans Mono',consolas,'Courier New',monospace\">Question: How does Kurt Busch describe the balance between professionalism and tenacity in his racing career?\n",
       "Context: There's some team owners or some mechanics or team personnel that are with you, but they have more of a \n",
       "balanced political approach to it, and then there's some that are just like, you know what? Let's let six months go\n",
       "by, and then we'll reevaluate. In racing timelines, that's way too long. You got to move quick, and that's what was\n",
       "a lot of my not balancing the professionalism with my tenacity or talent from behind the wheel. What do you plan to\n",
       "do in the next phase? At some point, I imagine you will say, okay, I'm going to step away from driving. What do you\n",
       "want to see the next phase of your life? Will it be equally competitive? Is there something that you already have \n",
       "on tap that you want to do? I'm sure I'll be competitive. I married a beautiful woman who is competitive in her own\n",
       "rights. My wife, Ashley, plays competitive polo, and she has her horses, her team, and travels, and she has the \n",
       "same thing that I have. It's called helmetitis. You put a helmet on, and you change into a different person.\n",
       "\n",
       "\n",
       "</pre>\n"
      ],
      "text/plain": [
       "Question: How does Kurt Busch describe the balance between professionalism and tenacity in his racing career?\n",
       "Context: There's some team owners or some mechanics or team personnel that are with you, but they have more of a \n",
       "balanced political approach to it, and then there's some that are just like, you know what? Let's let six months go\n",
       "by, and then we'll reevaluate. In racing timelines, that's way too long. You got to move quick, and that's what was\n",
       "a lot of my not balancing the professionalism with my tenacity or talent from behind the wheel. What do you plan to\n",
       "do in the next phase? At some point, I imagine you will say, okay, I'm going to step away from driving. What do you\n",
       "want to see the next phase of your life? Will it be equally competitive? Is there something that you already have \n",
       "on tap that you want to do? I'm sure I'll be competitive. I married a beautiful woman who is competitive in her own\n",
       "rights. My wife, Ashley, plays competitive polo, and she has her horses, her team, and travels, and she has the \n",
       "same thing that I have. It's called helmetitis. You put a helmet on, and you change into a different person.\n",
       "\n",
       "\n"
      ]
     },
     "metadata": {},
     "output_type": "display_data"
    },
    {
     "data": {
      "text/html": [
       "<pre style=\"white-space:pre;overflow-x:auto;line-height:normal;font-family:Menlo,'DejaVu Sans Mono',consolas,'Courier New',monospace\">Question: What does Kurt Busch anticipate for the next phase of his life after stepping away from driving?\n",
       "Context: There's some team owners or some mechanics or team personnel that are with you, but they have more of a \n",
       "balanced political approach to it, and then there's some that are just like, you know what? Let's let six months go\n",
       "by, and then we'll reevaluate. In racing timelines, that's way too long. You got to move quick, and that's what was\n",
       "a lot of my not balancing the professionalism with my tenacity or talent from behind the wheel. What do you plan to\n",
       "do in the next phase? At some point, I imagine you will say, okay, I'm going to step away from driving. What do you\n",
       "want to see the next phase of your life? Will it be equally competitive? Is there something that you already have \n",
       "on tap that you want to do? I'm sure I'll be competitive. I married a beautiful woman who is competitive in her own\n",
       "rights. My wife, Ashley, plays competitive polo, and she has her horses, her team, and travels, and she has the \n",
       "same thing that I have. It's called helmetitis. You put a helmet on, and you change into a different person.\n",
       "\n",
       "\n",
       "</pre>\n"
      ],
      "text/plain": [
       "Question: What does Kurt Busch anticipate for the next phase of his life after stepping away from driving?\n",
       "Context: There's some team owners or some mechanics or team personnel that are with you, but they have more of a \n",
       "balanced political approach to it, and then there's some that are just like, you know what? Let's let six months go\n",
       "by, and then we'll reevaluate. In racing timelines, that's way too long. You got to move quick, and that's what was\n",
       "a lot of my not balancing the professionalism with my tenacity or talent from behind the wheel. What do you plan to\n",
       "do in the next phase? At some point, I imagine you will say, okay, I'm going to step away from driving. What do you\n",
       "want to see the next phase of your life? Will it be equally competitive? Is there something that you already have \n",
       "on tap that you want to do? I'm sure I'll be competitive. I married a beautiful woman who is competitive in her own\n",
       "rights. My wife, Ashley, plays competitive polo, and she has her horses, her team, and travels, and she has the \n",
       "same thing that I have. It's called helmetitis. You put a helmet on, and you change into a different person.\n",
       "\n",
       "\n"
      ]
     },
     "metadata": {},
     "output_type": "display_data"
    },
    {
     "data": {
      "text/html": [
       "<pre style=\"white-space:pre;overflow-x:auto;line-height:normal;font-family:Menlo,'DejaVu Sans Mono',consolas,'Courier New',monospace\">Question: How does the brain optimize itself and prevent memory leaks?\n",
       "Context: So please remember, no matter what, if you put time, energy, and repetition into something, your brain is \n",
       "going to rewire. Now, you rewire based on repetition because your brain is always trying to be efficient. It \n",
       "represents something like two or <span style=\"color: #008080; text-decoration-color: #008080; font-weight: bold\">3</span>% of your body mass and yet takes up <span style=\"color: #008080; text-decoration-color: #008080; font-weight: bold\">25</span>% of the energy requirements of your body.\n",
       "Your brain is a caloric hog. And since evolutionarily speaking, calories were hard to come by, your brain is \n",
       "constantly trying to do things to optimize itself. Think about a computer that's running hot. It's trying to lower \n",
       "the resource requirements. And if you get what they call memory leaks in a computer, the computer crashes. The same\n",
       "is true of the brain. So evolution has made sure that we don't have these memory leaks, that we close those apps \n",
       "that are running in the background of the mind so that you don't need to use as many resources. One of the ways \n",
       "that it does it is a process called myelination. Myelination is what people mean when they talk about rewiring your\n",
       "brain. It's actually two parts.\n",
       "\n",
       "\n",
       "</pre>\n"
      ],
      "text/plain": [
       "Question: How does the brain optimize itself and prevent memory leaks?\n",
       "Context: So please remember, no matter what, if you put time, energy, and repetition into something, your brain is \n",
       "going to rewire. Now, you rewire based on repetition because your brain is always trying to be efficient. It \n",
       "represents something like two or \u001b[1;36m3\u001b[0m% of your body mass and yet takes up \u001b[1;36m25\u001b[0m% of the energy requirements of your body.\n",
       "Your brain is a caloric hog. And since evolutionarily speaking, calories were hard to come by, your brain is \n",
       "constantly trying to do things to optimize itself. Think about a computer that's running hot. It's trying to lower \n",
       "the resource requirements. And if you get what they call memory leaks in a computer, the computer crashes. The same\n",
       "is true of the brain. So evolution has made sure that we don't have these memory leaks, that we close those apps \n",
       "that are running in the background of the mind so that you don't need to use as many resources. One of the ways \n",
       "that it does it is a process called myelination. Myelination is what people mean when they talk about rewiring your\n",
       "brain. It's actually two parts.\n",
       "\n",
       "\n"
      ]
     },
     "metadata": {},
     "output_type": "display_data"
    },
    {
     "data": {
      "text/html": [
       "<pre style=\"white-space:pre;overflow-x:auto;line-height:normal;font-family:Menlo,'DejaVu Sans Mono',consolas,'Courier New',monospace\">Question: What is myelination and how does it contribute to rewiring the brain?\n",
       "Context: So please remember, no matter what, if you put time, energy, and repetition into something, your brain is \n",
       "going to rewire. Now, you rewire based on repetition because your brain is always trying to be efficient. It \n",
       "represents something like two or <span style=\"color: #008080; text-decoration-color: #008080; font-weight: bold\">3</span>% of your body mass and yet takes up <span style=\"color: #008080; text-decoration-color: #008080; font-weight: bold\">25</span>% of the energy requirements of your body.\n",
       "Your brain is a caloric hog. And since evolutionarily speaking, calories were hard to come by, your brain is \n",
       "constantly trying to do things to optimize itself. Think about a computer that's running hot. It's trying to lower \n",
       "the resource requirements. And if you get what they call memory leaks in a computer, the computer crashes. The same\n",
       "is true of the brain. So evolution has made sure that we don't have these memory leaks, that we close those apps \n",
       "that are running in the background of the mind so that you don't need to use as many resources. One of the ways \n",
       "that it does it is a process called myelination. Myelination is what people mean when they talk about rewiring your\n",
       "brain. It's actually two parts.\n",
       "\n",
       "\n",
       "</pre>\n"
      ],
      "text/plain": [
       "Question: What is myelination and how does it contribute to rewiring the brain?\n",
       "Context: So please remember, no matter what, if you put time, energy, and repetition into something, your brain is \n",
       "going to rewire. Now, you rewire based on repetition because your brain is always trying to be efficient. It \n",
       "represents something like two or \u001b[1;36m3\u001b[0m% of your body mass and yet takes up \u001b[1;36m25\u001b[0m% of the energy requirements of your body.\n",
       "Your brain is a caloric hog. And since evolutionarily speaking, calories were hard to come by, your brain is \n",
       "constantly trying to do things to optimize itself. Think about a computer that's running hot. It's trying to lower \n",
       "the resource requirements. And if you get what they call memory leaks in a computer, the computer crashes. The same\n",
       "is true of the brain. So evolution has made sure that we don't have these memory leaks, that we close those apps \n",
       "that are running in the background of the mind so that you don't need to use as many resources. One of the ways \n",
       "that it does it is a process called myelination. Myelination is what people mean when they talk about rewiring your\n",
       "brain. It's actually two parts.\n",
       "\n",
       "\n"
      ]
     },
     "metadata": {},
     "output_type": "display_data"
    },
    {
     "data": {
      "text/html": [
       "<pre style=\"white-space:pre;overflow-x:auto;line-height:normal;font-family:Menlo,'DejaVu Sans Mono',consolas,'Courier New',monospace\">Question: How does Vanessa Van Edwards describe touch as a communication tool?\n",
       "Context: But if you really have someone<span style=\"color: #808000; text-decoration-color: #808000\">...</span> Why least favorite? Because in this world, if we're six feet apart, \n",
       "right? It's really hard to cross that space boundary. And also some people aren't comfortable with touch. So I \n",
       "reserve that one if you're only like, I really need to get their attention. Touch is like the nuclear weapon, or \n",
       "maybe plutonium is the right word. It's the plutonium of communication. It can be used to create nuclear power or \n",
       "an atomic bomb. I don't think we talked about this in the last time they were together, but I went out on a \n",
       "business evening with a woman who touched so much that I was almost laughing to myself. And I<span style=\"color: #808000; text-decoration-color: #808000\">...</span> That's so awkward.\n",
       "No, I know. And it actually wasn't awkward. And what made it so interesting was how hyper aware of it I was and \n",
       "that it still worked. And I was like, how is this possible? Like<span style=\"color: #808000; text-decoration-color: #808000\">...</span> It was working. Yeah. Like forearm, hand. Oh my\n",
       "God. Laughing, shoulder. I was like, what is happening right now? I felt like I was at a magic show.\n",
       "\n",
       "\n",
       "</pre>\n"
      ],
      "text/plain": [
       "Question: How does Vanessa Van Edwards describe touch as a communication tool?\n",
       "Context: But if you really have someone\u001b[33m...\u001b[0m Why least favorite? Because in this world, if we're six feet apart, \n",
       "right? It's really hard to cross that space boundary. And also some people aren't comfortable with touch. So I \n",
       "reserve that one if you're only like, I really need to get their attention. Touch is like the nuclear weapon, or \n",
       "maybe plutonium is the right word. It's the plutonium of communication. It can be used to create nuclear power or \n",
       "an atomic bomb. I don't think we talked about this in the last time they were together, but I went out on a \n",
       "business evening with a woman who touched so much that I was almost laughing to myself. And I\u001b[33m...\u001b[0m That's so awkward.\n",
       "No, I know. And it actually wasn't awkward. And what made it so interesting was how hyper aware of it I was and \n",
       "that it still worked. And I was like, how is this possible? Like\u001b[33m...\u001b[0m It was working. Yeah. Like forearm, hand. Oh my\n",
       "God. Laughing, shoulder. I was like, what is happening right now? I felt like I was at a magic show.\n",
       "\n",
       "\n"
      ]
     },
     "metadata": {},
     "output_type": "display_data"
    },
    {
     "data": {
      "text/html": [
       "<pre style=\"white-space:pre;overflow-x:auto;line-height:normal;font-family:Menlo,'DejaVu Sans Mono',consolas,'Courier New',monospace\">Question: Why did the excessive touching from the woman on the business evening still work despite being hyper \n",
       "aware of it?\n",
       "Context: But if you really have someone<span style=\"color: #808000; text-decoration-color: #808000\">...</span> Why least favorite? Because in this world, if we're six feet apart, \n",
       "right? It's really hard to cross that space boundary. And also some people aren't comfortable with touch. So I \n",
       "reserve that one if you're only like, I really need to get their attention. Touch is like the nuclear weapon, or \n",
       "maybe plutonium is the right word. It's the plutonium of communication. It can be used to create nuclear power or \n",
       "an atomic bomb. I don't think we talked about this in the last time they were together, but I went out on a \n",
       "business evening with a woman who touched so much that I was almost laughing to myself. And I<span style=\"color: #808000; text-decoration-color: #808000\">...</span> That's so awkward.\n",
       "No, I know. And it actually wasn't awkward. And what made it so interesting was how hyper aware of it I was and \n",
       "that it still worked. And I was like, how is this possible? Like<span style=\"color: #808000; text-decoration-color: #808000\">...</span> It was working. Yeah. Like forearm, hand. Oh my\n",
       "God. Laughing, shoulder. I was like, what is happening right now? I felt like I was at a magic show.\n",
       "\n",
       "\n",
       "</pre>\n"
      ],
      "text/plain": [
       "Question: Why did the excessive touching from the woman on the business evening still work despite being hyper \n",
       "aware of it?\n",
       "Context: But if you really have someone\u001b[33m...\u001b[0m Why least favorite? Because in this world, if we're six feet apart, \n",
       "right? It's really hard to cross that space boundary. And also some people aren't comfortable with touch. So I \n",
       "reserve that one if you're only like, I really need to get their attention. Touch is like the nuclear weapon, or \n",
       "maybe plutonium is the right word. It's the plutonium of communication. It can be used to create nuclear power or \n",
       "an atomic bomb. I don't think we talked about this in the last time they were together, but I went out on a \n",
       "business evening with a woman who touched so much that I was almost laughing to myself. And I\u001b[33m...\u001b[0m That's so awkward.\n",
       "No, I know. And it actually wasn't awkward. And what made it so interesting was how hyper aware of it I was and \n",
       "that it still worked. And I was like, how is this possible? Like\u001b[33m...\u001b[0m It was working. Yeah. Like forearm, hand. Oh my\n",
       "God. Laughing, shoulder. I was like, what is happening right now? I felt like I was at a magic show.\n",
       "\n",
       "\n"
      ]
     },
     "metadata": {},
     "output_type": "display_data"
    },
    {
     "data": {
      "text/html": [
       "<pre style=\"white-space:pre;overflow-x:auto;line-height:normal;font-family:Menlo,'DejaVu Sans Mono',consolas,'Courier New',monospace\">Question: How does Susan David explain the role of emotions in our lives and why they are important?\n",
       "Context: This is basically your body doing its job, which is that your emotions evolved to help you to ward off \n",
       "danger, to judge, to criticize, to understand, to pick apart. So when you have these difficult thoughts, emotions, \n",
       "and stories, that's often your body, your psychology doing its job, which is basically trying to help you to be a \n",
       "coherent being in the world. And I'll give you an example of what I mean by this. When I wake up in the morning and\n",
       "I hear my baby cry, my story, which is that is my child that is crying that needs me, is what helps me to tune in \n",
       "that sound relative to the washing machine that's going on in the background. So as human beings, what we do is we \n",
       "take in all these stimuli, we take in all this stuff that's going on in the environment, and we make sense of it. \n",
       "And making sense of these stories, even if they make sense in a way that doesn't serve us, is sense-making. So we \n",
       "all do this. What starts to happen is that we could have grown up with a story that might be I'm unlovable.\n",
       "\n",
       "\n",
       "</pre>\n"
      ],
      "text/plain": [
       "Question: How does Susan David explain the role of emotions in our lives and why they are important?\n",
       "Context: This is basically your body doing its job, which is that your emotions evolved to help you to ward off \n",
       "danger, to judge, to criticize, to understand, to pick apart. So when you have these difficult thoughts, emotions, \n",
       "and stories, that's often your body, your psychology doing its job, which is basically trying to help you to be a \n",
       "coherent being in the world. And I'll give you an example of what I mean by this. When I wake up in the morning and\n",
       "I hear my baby cry, my story, which is that is my child that is crying that needs me, is what helps me to tune in \n",
       "that sound relative to the washing machine that's going on in the background. So as human beings, what we do is we \n",
       "take in all these stimuli, we take in all this stuff that's going on in the environment, and we make sense of it. \n",
       "And making sense of these stories, even if they make sense in a way that doesn't serve us, is sense-making. So we \n",
       "all do this. What starts to happen is that we could have grown up with a story that might be I'm unlovable.\n",
       "\n",
       "\n"
      ]
     },
     "metadata": {},
     "output_type": "display_data"
    },
    {
     "data": {
      "text/html": [
       "<pre style=\"white-space:pre;overflow-x:auto;line-height:normal;font-family:Menlo,'DejaVu Sans Mono',consolas,'Courier New',monospace\">Question: What example does Susan David provide to illustrate how our internal narratives help us make sense of the\n",
       "world around us?\n",
       "Context: This is basically your body doing its job, which is that your emotions evolved to help you to ward off \n",
       "danger, to judge, to criticize, to understand, to pick apart. So when you have these difficult thoughts, emotions, \n",
       "and stories, that's often your body, your psychology doing its job, which is basically trying to help you to be a \n",
       "coherent being in the world. And I'll give you an example of what I mean by this. When I wake up in the morning and\n",
       "I hear my baby cry, my story, which is that is my child that is crying that needs me, is what helps me to tune in \n",
       "that sound relative to the washing machine that's going on in the background. So as human beings, what we do is we \n",
       "take in all these stimuli, we take in all this stuff that's going on in the environment, and we make sense of it. \n",
       "And making sense of these stories, even if they make sense in a way that doesn't serve us, is sense-making. So we \n",
       "all do this. What starts to happen is that we could have grown up with a story that might be I'm unlovable.\n",
       "\n",
       "\n",
       "</pre>\n"
      ],
      "text/plain": [
       "Question: What example does Susan David provide to illustrate how our internal narratives help us make sense of the\n",
       "world around us?\n",
       "Context: This is basically your body doing its job, which is that your emotions evolved to help you to ward off \n",
       "danger, to judge, to criticize, to understand, to pick apart. So when you have these difficult thoughts, emotions, \n",
       "and stories, that's often your body, your psychology doing its job, which is basically trying to help you to be a \n",
       "coherent being in the world. And I'll give you an example of what I mean by this. When I wake up in the morning and\n",
       "I hear my baby cry, my story, which is that is my child that is crying that needs me, is what helps me to tune in \n",
       "that sound relative to the washing machine that's going on in the background. So as human beings, what we do is we \n",
       "take in all these stimuli, we take in all this stuff that's going on in the environment, and we make sense of it. \n",
       "And making sense of these stories, even if they make sense in a way that doesn't serve us, is sense-making. So we \n",
       "all do this. What starts to happen is that we could have grown up with a story that might be I'm unlovable.\n",
       "\n",
       "\n"
      ]
     },
     "metadata": {},
     "output_type": "display_data"
    },
    {
     "data": {
      "text/html": [
       "<pre style=\"white-space:pre;overflow-x:auto;line-height:normal;font-family:Menlo,'DejaVu Sans Mono',consolas,'Courier New',monospace\">Question: How does Taylor Wilson believe that discovering one's passion is different for everyone?\n",
       "Context: But unlike me, he instilled this point I don't think has discovered what he really wants to use that \n",
       "aptitude for. I was lucky. I found what I wanted to do when I was <span style=\"color: #008080; text-decoration-color: #008080; font-weight: bold\">10</span> years old. I don't think most people who are \n",
       "<span style=\"color: #008080; text-decoration-color: #008080; font-weight: bold\">25</span> or even <span style=\"color: #008080; text-decoration-color: #008080; font-weight: bold\">30</span> or <span style=\"color: #008080; text-decoration-color: #008080; font-weight: bold\">35</span> have discovered that yet. But I was just, and I think every day, like I am so lucky to have the\n",
       "parents I had to have the resources I had and to discover that and have that spark when I was <span style=\"color: #008080; text-decoration-color: #008080; font-weight: bold\">10</span> years old. It's \n",
       "just about, you know, finding something that you really enjoy whether you're <span style=\"color: #008080; text-decoration-color: #008080; font-weight: bold\">10</span> or, you know, <span style=\"color: #008080; text-decoration-color: #008080; font-weight: bold\">40</span>, right? It happens\n",
       "at different points for everyone. And what do you, do people ask you about, like, how do I find my passion or how \n",
       "do I develop a passion at all? Yeah, I mean, it's hard to say for me. People ask me, you know, how did I become, \n",
       "you know, interested in nuclear science? And it's hard to pinpoint, you know, one specific thing where it's like, I\n",
       "read that or I talked to that person and I knew.\n",
       "\n",
       "\n",
       "</pre>\n"
      ],
      "text/plain": [
       "Question: How does Taylor Wilson believe that discovering one's passion is different for everyone?\n",
       "Context: But unlike me, he instilled this point I don't think has discovered what he really wants to use that \n",
       "aptitude for. I was lucky. I found what I wanted to do when I was \u001b[1;36m10\u001b[0m years old. I don't think most people who are \n",
       "\u001b[1;36m25\u001b[0m or even \u001b[1;36m30\u001b[0m or \u001b[1;36m35\u001b[0m have discovered that yet. But I was just, and I think every day, like I am so lucky to have the\n",
       "parents I had to have the resources I had and to discover that and have that spark when I was \u001b[1;36m10\u001b[0m years old. It's \n",
       "just about, you know, finding something that you really enjoy whether you're \u001b[1;36m10\u001b[0m or, you know, \u001b[1;36m40\u001b[0m, right? It happens\n",
       "at different points for everyone. And what do you, do people ask you about, like, how do I find my passion or how \n",
       "do I develop a passion at all? Yeah, I mean, it's hard to say for me. People ask me, you know, how did I become, \n",
       "you know, interested in nuclear science? And it's hard to pinpoint, you know, one specific thing where it's like, I\n",
       "read that or I talked to that person and I knew.\n",
       "\n",
       "\n"
      ]
     },
     "metadata": {},
     "output_type": "display_data"
    },
    {
     "data": {
      "text/html": [
       "<pre style=\"white-space:pre;overflow-x:auto;line-height:normal;font-family:Menlo,'DejaVu Sans Mono',consolas,'Courier New',monospace\">Question: What does Taylor Wilson find challenging when people ask him about how he became interested in nuclear \n",
       "science?\n",
       "Context: But unlike me, he instilled this point I don't think has discovered what he really wants to use that \n",
       "aptitude for. I was lucky. I found what I wanted to do when I was <span style=\"color: #008080; text-decoration-color: #008080; font-weight: bold\">10</span> years old. I don't think most people who are \n",
       "<span style=\"color: #008080; text-decoration-color: #008080; font-weight: bold\">25</span> or even <span style=\"color: #008080; text-decoration-color: #008080; font-weight: bold\">30</span> or <span style=\"color: #008080; text-decoration-color: #008080; font-weight: bold\">35</span> have discovered that yet. But I was just, and I think every day, like I am so lucky to have the\n",
       "parents I had to have the resources I had and to discover that and have that spark when I was <span style=\"color: #008080; text-decoration-color: #008080; font-weight: bold\">10</span> years old. It's \n",
       "just about, you know, finding something that you really enjoy whether you're <span style=\"color: #008080; text-decoration-color: #008080; font-weight: bold\">10</span> or, you know, <span style=\"color: #008080; text-decoration-color: #008080; font-weight: bold\">40</span>, right? It happens\n",
       "at different points for everyone. And what do you, do people ask you about, like, how do I find my passion or how \n",
       "do I develop a passion at all? Yeah, I mean, it's hard to say for me. People ask me, you know, how did I become, \n",
       "you know, interested in nuclear science? And it's hard to pinpoint, you know, one specific thing where it's like, I\n",
       "read that or I talked to that person and I knew.\n",
       "\n",
       "\n",
       "</pre>\n"
      ],
      "text/plain": [
       "Question: What does Taylor Wilson find challenging when people ask him about how he became interested in nuclear \n",
       "science?\n",
       "Context: But unlike me, he instilled this point I don't think has discovered what he really wants to use that \n",
       "aptitude for. I was lucky. I found what I wanted to do when I was \u001b[1;36m10\u001b[0m years old. I don't think most people who are \n",
       "\u001b[1;36m25\u001b[0m or even \u001b[1;36m30\u001b[0m or \u001b[1;36m35\u001b[0m have discovered that yet. But I was just, and I think every day, like I am so lucky to have the\n",
       "parents I had to have the resources I had and to discover that and have that spark when I was \u001b[1;36m10\u001b[0m years old. It's \n",
       "just about, you know, finding something that you really enjoy whether you're \u001b[1;36m10\u001b[0m or, you know, \u001b[1;36m40\u001b[0m, right? It happens\n",
       "at different points for everyone. And what do you, do people ask you about, like, how do I find my passion or how \n",
       "do I develop a passion at all? Yeah, I mean, it's hard to say for me. People ask me, you know, how did I become, \n",
       "you know, interested in nuclear science? And it's hard to pinpoint, you know, one specific thing where it's like, I\n",
       "read that or I talked to that person and I knew.\n",
       "\n",
       "\n"
      ]
     },
     "metadata": {},
     "output_type": "display_data"
    },
    {
     "data": {
      "text/html": [
       "<pre style=\"white-space:pre;overflow-x:auto;line-height:normal;font-family:Menlo,'DejaVu Sans Mono',consolas,'Courier New',monospace\">Question: How does Evan Puschak choose the topics for his Nerdwriter videos?\n",
       "Context: You've done such a good job of taking a subject, like Rihanna's work, work, work, work, work song, like \n",
       "you've got a whole fucking show about that song. Tom Bilyeu I love that video. I love making that video. Tom Bilyeu\n",
       "How is this happening? He made a show, he spent a week on this song and it's really interesting. Tom Bilyeu \n",
       "Hardcore week. Tom Bilyeu How did you train yourself to go deep like that? I think when you write a lot, it makes \n",
       "it a little bit easier to compose a story. That part of my brain and mind is still primed for taking information \n",
       "and composing it into something that is persuasive and like a story. Every week or whenever I come up with \n",
       "something for the nerd writer, it's usually a combination of some kind of introspective thought process that I want\n",
       "to talk about and something from the world that I've consumed that I think is interesting and I like to talk about \n",
       "it and it's like, oh there's a good interaction between those two, let's see what I can do there.\n",
       "\n",
       "\n",
       "</pre>\n"
      ],
      "text/plain": [
       "Question: How does Evan Puschak choose the topics for his Nerdwriter videos?\n",
       "Context: You've done such a good job of taking a subject, like Rihanna's work, work, work, work, work song, like \n",
       "you've got a whole fucking show about that song. Tom Bilyeu I love that video. I love making that video. Tom Bilyeu\n",
       "How is this happening? He made a show, he spent a week on this song and it's really interesting. Tom Bilyeu \n",
       "Hardcore week. Tom Bilyeu How did you train yourself to go deep like that? I think when you write a lot, it makes \n",
       "it a little bit easier to compose a story. That part of my brain and mind is still primed for taking information \n",
       "and composing it into something that is persuasive and like a story. Every week or whenever I come up with \n",
       "something for the nerd writer, it's usually a combination of some kind of introspective thought process that I want\n",
       "to talk about and something from the world that I've consumed that I think is interesting and I like to talk about \n",
       "it and it's like, oh there's a good interaction between those two, let's see what I can do there.\n",
       "\n",
       "\n"
      ]
     },
     "metadata": {},
     "output_type": "display_data"
    },
    {
     "data": {
      "text/html": [
       "<pre style=\"white-space:pre;overflow-x:auto;line-height:normal;font-family:Menlo,'DejaVu Sans Mono',consolas,'Courier New',monospace\">Question: Why does Evan Puschak believe that writing a lot makes it easier to compose a persuasive story?\n",
       "Context: You've done such a good job of taking a subject, like Rihanna's work, work, work, work, work song, like \n",
       "you've got a whole fucking show about that song. Tom Bilyeu I love that video. I love making that video. Tom Bilyeu\n",
       "How is this happening? He made a show, he spent a week on this song and it's really interesting. Tom Bilyeu \n",
       "Hardcore week. Tom Bilyeu How did you train yourself to go deep like that? I think when you write a lot, it makes \n",
       "it a little bit easier to compose a story. That part of my brain and mind is still primed for taking information \n",
       "and composing it into something that is persuasive and like a story. Every week or whenever I come up with \n",
       "something for the nerd writer, it's usually a combination of some kind of introspective thought process that I want\n",
       "to talk about and something from the world that I've consumed that I think is interesting and I like to talk about \n",
       "it and it's like, oh there's a good interaction between those two, let's see what I can do there.\n",
       "\n",
       "\n",
       "</pre>\n"
      ],
      "text/plain": [
       "Question: Why does Evan Puschak believe that writing a lot makes it easier to compose a persuasive story?\n",
       "Context: You've done such a good job of taking a subject, like Rihanna's work, work, work, work, work song, like \n",
       "you've got a whole fucking show about that song. Tom Bilyeu I love that video. I love making that video. Tom Bilyeu\n",
       "How is this happening? He made a show, he spent a week on this song and it's really interesting. Tom Bilyeu \n",
       "Hardcore week. Tom Bilyeu How did you train yourself to go deep like that? I think when you write a lot, it makes \n",
       "it a little bit easier to compose a story. That part of my brain and mind is still primed for taking information \n",
       "and composing it into something that is persuasive and like a story. Every week or whenever I come up with \n",
       "something for the nerd writer, it's usually a combination of some kind of introspective thought process that I want\n",
       "to talk about and something from the world that I've consumed that I think is interesting and I like to talk about \n",
       "it and it's like, oh there's a good interaction between those two, let's see what I can do there.\n",
       "\n",
       "\n"
      ]
     },
     "metadata": {},
     "output_type": "display_data"
    },
    {
     "data": {
      "text/html": [
       "<pre style=\"white-space:pre;overflow-x:auto;line-height:normal;font-family:Menlo,'DejaVu Sans Mono',consolas,'Courier New',monospace\">Question: How did the mice in the study gain weight and body fat despite eating the same amount of calories?\n",
       "Context: Those researchers at the Wiseman Institute who understand about what's, you know, the bacteria and mice, \n",
       "they took bacteria samples, fecal samples, which fecal transplantation is like one of the hottest things on the \n",
       "street as well. It's super weird, but it is. But they take they took these fecal samples from folks who had a \n",
       "bacteria cascade associated with obesity and implanted it into lean mice. And they took another set of fecal \n",
       "samples from human subjects who had a bacteria cascade associated with leanness and implanted that into lean mice. \n",
       "Those mice stayed lean. The mice who received the implants from the folks with the bacteria cascade associated with\n",
       "obesity, those mice became insulin resistant. They gained weight and gained body fat, not because of calories, not \n",
       "because they changed what they were eating because of the bacteria. These principles supersede any of the ideas \n",
       "that we carry about just managing calories. If you just get into a caloric deficit because the mice are already \n",
       "eating the same thing, yet they're gaining weight.\n",
       "\n",
       "\n",
       "</pre>\n"
      ],
      "text/plain": [
       "Question: How did the mice in the study gain weight and body fat despite eating the same amount of calories?\n",
       "Context: Those researchers at the Wiseman Institute who understand about what's, you know, the bacteria and mice, \n",
       "they took bacteria samples, fecal samples, which fecal transplantation is like one of the hottest things on the \n",
       "street as well. It's super weird, but it is. But they take they took these fecal samples from folks who had a \n",
       "bacteria cascade associated with obesity and implanted it into lean mice. And they took another set of fecal \n",
       "samples from human subjects who had a bacteria cascade associated with leanness and implanted that into lean mice. \n",
       "Those mice stayed lean. The mice who received the implants from the folks with the bacteria cascade associated with\n",
       "obesity, those mice became insulin resistant. They gained weight and gained body fat, not because of calories, not \n",
       "because they changed what they were eating because of the bacteria. These principles supersede any of the ideas \n",
       "that we carry about just managing calories. If you just get into a caloric deficit because the mice are already \n",
       "eating the same thing, yet they're gaining weight.\n",
       "\n",
       "\n"
      ]
     },
     "metadata": {},
     "output_type": "display_data"
    },
    {
     "data": {
      "text/html": [
       "<pre style=\"white-space:pre;overflow-x:auto;line-height:normal;font-family:Menlo,'DejaVu Sans Mono',consolas,'Courier New',monospace\">Question: What did the researchers find when they implanted fecal samples from individuals with a bacteria cascade \n",
       "associated with obesity into lean mice?\n",
       "Context: Those researchers at the Wiseman Institute who understand about what's, you know, the bacteria and mice, \n",
       "they took bacteria samples, fecal samples, which fecal transplantation is like one of the hottest things on the \n",
       "street as well. It's super weird, but it is. But they take they took these fecal samples from folks who had a \n",
       "bacteria cascade associated with obesity and implanted it into lean mice. And they took another set of fecal \n",
       "samples from human subjects who had a bacteria cascade associated with leanness and implanted that into lean mice. \n",
       "Those mice stayed lean. The mice who received the implants from the folks with the bacteria cascade associated with\n",
       "obesity, those mice became insulin resistant. They gained weight and gained body fat, not because of calories, not \n",
       "because they changed what they were eating because of the bacteria. These principles supersede any of the ideas \n",
       "that we carry about just managing calories. If you just get into a caloric deficit because the mice are already \n",
       "eating the same thing, yet they're gaining weight.\n",
       "\n",
       "\n",
       "</pre>\n"
      ],
      "text/plain": [
       "Question: What did the researchers find when they implanted fecal samples from individuals with a bacteria cascade \n",
       "associated with obesity into lean mice?\n",
       "Context: Those researchers at the Wiseman Institute who understand about what's, you know, the bacteria and mice, \n",
       "they took bacteria samples, fecal samples, which fecal transplantation is like one of the hottest things on the \n",
       "street as well. It's super weird, but it is. But they take they took these fecal samples from folks who had a \n",
       "bacteria cascade associated with obesity and implanted it into lean mice. And they took another set of fecal \n",
       "samples from human subjects who had a bacteria cascade associated with leanness and implanted that into lean mice. \n",
       "Those mice stayed lean. The mice who received the implants from the folks with the bacteria cascade associated with\n",
       "obesity, those mice became insulin resistant. They gained weight and gained body fat, not because of calories, not \n",
       "because they changed what they were eating because of the bacteria. These principles supersede any of the ideas \n",
       "that we carry about just managing calories. If you just get into a caloric deficit because the mice are already \n",
       "eating the same thing, yet they're gaining weight.\n",
       "\n",
       "\n"
      ]
     },
     "metadata": {},
     "output_type": "display_data"
    },
    {
     "data": {
      "text/html": [
       "<pre style=\"white-space:pre;overflow-x:auto;line-height:normal;font-family:Menlo,'DejaVu Sans Mono',consolas,'Courier New',monospace\">Question: How does Bjorn Lomborg emphasize the importance of prioritizing solutions based on cost-effectiveness and\n",
       "impact?\n",
       "Context: We should have good jobs for everyone. And we should have organic apples for everyone and community \n",
       "gardens and the whole thing. And you're sort of like, really? Yes, of course. I would love this world where we had \n",
       "everything to everyone. But clearly if you're promising everything to everyone, you have no priorities. You're \n",
       "literally not giving any direction. You're just saying all good things in apple pie. But why is that bad? So that \n",
       "sounds amazing. And I think part of people's hangup is what's the problem? Like that sounds awesome. Yes, let's do \n",
       "it. And Bjorn, there are so many people in the world. There's so much wealth. Like, come on, come on. Can't Elon \n",
       "Musk solve these problems by himself? So I can put it to you in a way I love, which is just numbers. So if you try \n",
       "to cost how much this is going to cost, it'll probably cost an additional <span style=\"color: #008080; text-decoration-color: #008080; font-weight: bold\">10</span> to $<span style=\"color: #008080; text-decoration-color: #008080; font-weight: bold\">15</span> trillion. To give you a sense \n",
       "of proportion right now, the global tax intake of all governments in the world is $<span style=\"color: #008080; text-decoration-color: #008080; font-weight: bold\">15</span> trillion.\n",
       "\n",
       "\n",
       "</pre>\n"
      ],
      "text/plain": [
       "Question: How does Bjorn Lomborg emphasize the importance of prioritizing solutions based on cost-effectiveness and\n",
       "impact?\n",
       "Context: We should have good jobs for everyone. And we should have organic apples for everyone and community \n",
       "gardens and the whole thing. And you're sort of like, really? Yes, of course. I would love this world where we had \n",
       "everything to everyone. But clearly if you're promising everything to everyone, you have no priorities. You're \n",
       "literally not giving any direction. You're just saying all good things in apple pie. But why is that bad? So that \n",
       "sounds amazing. And I think part of people's hangup is what's the problem? Like that sounds awesome. Yes, let's do \n",
       "it. And Bjorn, there are so many people in the world. There's so much wealth. Like, come on, come on. Can't Elon \n",
       "Musk solve these problems by himself? So I can put it to you in a way I love, which is just numbers. So if you try \n",
       "to cost how much this is going to cost, it'll probably cost an additional \u001b[1;36m10\u001b[0m to $\u001b[1;36m15\u001b[0m trillion. To give you a sense \n",
       "of proportion right now, the global tax intake of all governments in the world is $\u001b[1;36m15\u001b[0m trillion.\n",
       "\n",
       "\n"
      ]
     },
     "metadata": {},
     "output_type": "display_data"
    },
    {
     "data": {
      "text/html": [
       "<pre style=\"white-space:pre;overflow-x:auto;line-height:normal;font-family:Menlo,'DejaVu Sans Mono',consolas,'Courier New',monospace\">Question: What is the estimated additional cost of providing everything to everyone, according to Bjorn Lomborg?\n",
       "Context: We should have good jobs for everyone. And we should have organic apples for everyone and community \n",
       "gardens and the whole thing. And you're sort of like, really? Yes, of course. I would love this world where we had \n",
       "everything to everyone. But clearly if you're promising everything to everyone, you have no priorities. You're \n",
       "literally not giving any direction. You're just saying all good things in apple pie. But why is that bad? So that \n",
       "sounds amazing. And I think part of people's hangup is what's the problem? Like that sounds awesome. Yes, let's do \n",
       "it. And Bjorn, there are so many people in the world. There's so much wealth. Like, come on, come on. Can't Elon \n",
       "Musk solve these problems by himself? So I can put it to you in a way I love, which is just numbers. So if you try \n",
       "to cost how much this is going to cost, it'll probably cost an additional <span style=\"color: #008080; text-decoration-color: #008080; font-weight: bold\">10</span> to $<span style=\"color: #008080; text-decoration-color: #008080; font-weight: bold\">15</span> trillion. To give you a sense \n",
       "of proportion right now, the global tax intake of all governments in the world is $<span style=\"color: #008080; text-decoration-color: #008080; font-weight: bold\">15</span> trillion.\n",
       "\n",
       "\n",
       "</pre>\n"
      ],
      "text/plain": [
       "Question: What is the estimated additional cost of providing everything to everyone, according to Bjorn Lomborg?\n",
       "Context: We should have good jobs for everyone. And we should have organic apples for everyone and community \n",
       "gardens and the whole thing. And you're sort of like, really? Yes, of course. I would love this world where we had \n",
       "everything to everyone. But clearly if you're promising everything to everyone, you have no priorities. You're \n",
       "literally not giving any direction. You're just saying all good things in apple pie. But why is that bad? So that \n",
       "sounds amazing. And I think part of people's hangup is what's the problem? Like that sounds awesome. Yes, let's do \n",
       "it. And Bjorn, there are so many people in the world. There's so much wealth. Like, come on, come on. Can't Elon \n",
       "Musk solve these problems by himself? So I can put it to you in a way I love, which is just numbers. So if you try \n",
       "to cost how much this is going to cost, it'll probably cost an additional \u001b[1;36m10\u001b[0m to $\u001b[1;36m15\u001b[0m trillion. To give you a sense \n",
       "of proportion right now, the global tax intake of all governments in the world is $\u001b[1;36m15\u001b[0m trillion.\n",
       "\n",
       "\n"
      ]
     },
     "metadata": {},
     "output_type": "display_data"
    }
   ],
   "source": [
    "pairs = show_qa_pairs(training_set, print_results=True)"
   ]
  },
  {
   "cell_type": "markdown",
   "id": "62170665-3b89-49ef-a266-ab24a86ab43c",
   "metadata": {},
   "source": [
    "### Save to Disk  \n",
    "Save to disk using your own filepaths, below is an example using the length of the sets as part of the filepath."
   ]
  },
  {
   "cell_type": "code",
   "execution_count": 28,
   "id": "192d9bb8-8535-4d1e-9229-f93cffb368e2",
   "metadata": {},
   "outputs": [],
   "source": [
    "# training_set.save_json('./data/training_data_10.json')\n",
    "# val_set.save_json('./data/validation_data_5.json')"
   ]
  },
  {
   "cell_type": "code",
   "execution_count": null,
   "id": "d9e25e8e-7edc-43b8-ab3b-8d986103ea76",
   "metadata": {},
   "outputs": [],
   "source": []
  }
 ],
 "metadata": {
  "kernelspec": {
   "display_name": "vsa",
   "language": "python",
   "name": "vsa"
  },
  "language_info": {
   "codemirror_mode": {
    "name": "ipython",
    "version": 3
   },
   "file_extension": ".py",
   "mimetype": "text/x-python",
   "name": "python",
   "nbconvert_exporter": "python",
   "pygments_lexer": "ipython3",
   "version": "3.10.13"
  }
 },
 "nbformat": 4,
 "nbformat_minor": 5
}
